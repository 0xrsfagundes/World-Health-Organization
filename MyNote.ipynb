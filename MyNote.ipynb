{
 "cells": [
  {
   "attachments": {},
   "cell_type": "markdown",
   "metadata": {},
   "source": [
    "Retrieve data from World Health Organization"
   ]
  },
  {
   "cell_type": "code",
   "execution_count": 9,
   "metadata": {},
   "outputs": [],
   "source": [
    "import requests\n",
    "\n",
    "url = \"https://apps.who.int/gho/athena/api/GHO/WHOSIS_000001.json\"\n",
    "\n",
    "params = {\n",
    "    \"filter\": \"COUNTRY:*\",\n",
    "}\n",
    "\n",
    "response = requests.get(url, params=params)\n",
    "\n",
    "data = response.json()\n"
   ]
  },
  {
   "attachments": {},
   "cell_type": "markdown",
   "metadata": {},
   "source": [
    "Extract country names and HIV prevalence"
   ]
  },
  {
   "cell_type": "code",
   "execution_count": 15,
   "metadata": {},
   "outputs": [],
   "source": [
    "countries = []\n",
    "years = []\n",
    "rates = []\n",
    "for item in data['fact']:\n",
    "    rates.append(item['value']['numeric'])\n",
    "    for dim in item['Dim']:\n",
    "        if dim['category'] == 'COUNTRY':\n",
    "                countries.append(dim['code'])\n",
    "        if dim['category'] == 'YEAR':\n",
    "                years.append(dim['code'])"
   ]
  },
  {
   "attachments": {},
   "cell_type": "markdown",
   "metadata": {},
   "source": [
    "Create DataFrame with Arrays"
   ]
  },
  {
   "cell_type": "code",
   "execution_count": 17,
   "metadata": {},
   "outputs": [
    {
     "name": "stdout",
     "output_type": "stream",
     "text": [
      "     Country  Year      Rate\n",
      "0        AFG  2010  59.60036\n",
      "1        AFG  2010  60.29720\n",
      "2        AFG  2010  59.94055\n",
      "3        AGO  2010  55.77834\n",
      "4        AGO  2010  60.52821\n",
      "...      ...   ...       ...\n",
      "2191     ZMB  2010  59.06268\n",
      "2192     ZMB  2015  60.49665\n",
      "2193     ZWE  2015  55.73344\n",
      "2194     ZWE  2015  60.95527\n",
      "2195     ZWE  2015  58.47603\n",
      "\n",
      "[2196 rows x 3 columns]\n"
     ]
    }
   ],
   "source": [
    "import pandas as pd\n",
    "\n",
    "data = {'Country':countries, 'Year':years, 'Rate': rates}\n",
    "df = pd.DataFrame(data)\n",
    "print(df)"
   ]
  },
  {
   "cell_type": "code",
   "execution_count": null,
   "metadata": {},
   "outputs": [],
   "source": [
    "import matplotlib.pyplot as plt\n",
    "\n",
    "\n",
    "df.plot(kind='bar',x='Year',y='Rate')\n",
    "\n",
    "plt.xlabel('Years')\n",
    "plt.ylabel('Rates')\n",
    "plt.title('HIV prevalence')\n",
    "\n",
    "plt.show()"
   ]
  }
 ],
 "metadata": {
  "kernelspec": {
   "display_name": "Python 3",
   "language": "python",
   "name": "python3"
  },
  "language_info": {
   "codemirror_mode": {
    "name": "ipython",
    "version": 3
   },
   "file_extension": ".py",
   "mimetype": "text/x-python",
   "name": "python",
   "nbconvert_exporter": "python",
   "pygments_lexer": "ipython3",
   "version": "3.7.3"
  },
  "orig_nbformat": 4
 },
 "nbformat": 4,
 "nbformat_minor": 2
}
